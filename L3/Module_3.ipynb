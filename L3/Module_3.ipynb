{
 "cells": [
  {
   "cell_type": "code",
   "execution_count": 1,
   "id": "5efab7f8",
   "metadata": {},
   "outputs": [],
   "source": [
    "# Collect and print 10 jokes of the category: “Programming” and the joke type “single”. Start each joke \n",
    "# with the joke number, e.g., “Joke #1: ”, “Joke #2: ”, etc. \n",
    "# Separate consecutive jokes by printing a blank line between them. (3 points)\n"
   ]
  },
  {
   "cell_type": "code",
   "execution_count": 55,
   "id": "cde0faaa",
   "metadata": {},
   "outputs": [
    {
     "name": "stdout",
     "output_type": "stream",
     "text": [
      "Joke #1: There are 10 types of people in this world... - Those who understand binary and those who don't\n",
      "Joke #2: What musical instrument is found in the bathroom? - A tuba toothpaste.\n",
      "Joke #3: What do I look like? - A JOKE MACHINE!?\n",
      "Joke #4: What do you call corn that joins the army? - Kernel.\n",
      "Joke #5: How many kids with ADD does it take to change a lightbulb? - Let's go ride bikes!\n",
      "Joke #6: Why don't you find hippopotamuses hiding in trees? - They're really good at it.\n",
      "Joke #7: What did the mountain climber name his son? - Cliff.\n",
      "Joke #8: How do you check if a webpage is HTML5? - Try it out on Internet Explorer\n",
      "Joke #9: What do you call an old snowman? - Water.\n",
      "Joke #10: What do you call a pile of cats? -  A Meowtain.\n",
      "\n"
     ]
    }
   ],
   "source": [
    "import requests\n",
    "\n",
    "def Programming():\n",
    "    url = \"https://official-joke-api.appspot.com/random_ten\"\n",
    "    response = requests.get(url)\n",
    "    data = response.json()\n",
    "\n",
    "    jokes = []\n",
    "    for i, joke in enumerate(data, start=1):\n",
    "        full_joke = f\"{joke['setup']} - {joke['punchline']}\"\n",
    "#         to take jokes that are single line \n",
    "        if '\\n' not in full_joke and len(full_joke) < 100:  \n",
    "            jokes.append(f\"Joke #{i}: {full_joke}\\n\")\n",
    "\n",
    "    return \"\".join(jokes)\n",
    "\n",
    "print(Programming())\n"
   ]
  },
  {
   "cell_type": "code",
   "execution_count": 75,
   "id": "462e6a37",
   "metadata": {},
   "outputs": [],
   "source": [
    "# Next, calculate the sentiment value associated with the text of each joke. (2 points)\n"
   ]
  },
  {
   "cell_type": "code",
   "execution_count": 78,
   "id": "b0463b4f",
   "metadata": {},
   "outputs": [
    {
     "name": "stdout",
     "output_type": "stream",
     "text": [
      "Joke #1: What do you call corn that joins the army? - Kernel. (Sentiment: 0.0)\n",
      "\n",
      "Joke #2: Why are fish easy to weigh? - Because they have their own scales. (Sentiment: 0.5166666666666666)\n",
      "\n",
      "Joke #3: What is the most used language in programming? - Profanity. (Sentiment: 0.5)\n",
      "\n",
      "Joke #4: What do you call a careful wolf? - Aware wolf. (Sentiment: 0.075)\n",
      "\n",
      "Joke #5: What do you call a cow on a trampoline? - A milk shake! (Sentiment: -0.16666666666666666)\n",
      "\n",
      "Joke #6: Why are “Dad Jokes” so good? - Because the punchline is apparent. (Sentiment: 0.375)\n",
      "\n",
      "Joke #7: Did you hear about the cheese factory that exploded in France? - There was nothing left but de Brie. (Sentiment: 0.0)\n",
      "\n",
      "Joke #8: Did you hear about the guy who invented Lifesavers? - They say he made a mint. (Sentiment: 0.0)\n",
      "\n",
      "Joke #9: How do you find Will Smith in the snow? -  Look for fresh prints. (Sentiment: 0.3)\n",
      "\n",
      "Joke #10: Why was Cinderalla thrown out of the football team? - Because she ran away from the ball. (Sentiment: 0.0)\n",
      "\n"
     ]
    }
   ],
   "source": [
    "from textblob import TextBlob\n",
    "import json\n",
    "\n",
    "def Programming():\n",
    "    url = \"https://official-joke-api.appspot.com/random_ten\"\n",
    "    response = requests.get(url)\n",
    "    data = response.json()\n",
    "\n",
    "    jokes = []\n",
    "    for i, joke in enumerate(data, start=1):\n",
    "        full_joke = f\"{joke['setup']} - {joke['punchline']}\"\n",
    "        if '\\n' not in full_joke and len(full_joke) < 150: \n",
    "            jokes.append(full_joke)\n",
    "\n",
    "    return jokes\n",
    "\n",
    "jokes = Programming()\n",
    "\n",
    "for i, joke in enumerate(jokes, start=1):\n",
    "    sentiment = TextBlob(joke).sentiment.polarity\n",
    "    print(f\"Joke #{i}: {joke} (Sentiment: {sentiment})\\n\")\n"
   ]
  },
  {
   "cell_type": "code",
   "execution_count": 22,
   "id": "45ecba16",
   "metadata": {},
   "outputs": [],
   "source": [
    "# Create a dictionary mapping the joke text to its sentiment score. Pretty-print this dictionary by converting \n",
    "# it to a JSON string with an indent level of 4 and printing that string. (2 points)"
   ]
  },
  {
   "cell_type": "code",
   "execution_count": 77,
   "id": "dae2366f",
   "metadata": {},
   "outputs": [
    {
     "name": "stdout",
     "output_type": "stream",
     "text": [
      "{\n",
      "    \"Did you hear about the two silk worms in a race? - It ended in a tie.\": 0.0,\n",
      "    \"What do you get when you cross a snowman with a vampire? - Frostbite.\": 0.0,\n",
      "    \"How come a man driving a train got struck by lightning? - He was a good conductor.\": 0.7,\n",
      "    \"What do you call corn that joins the army? - Kernel.\": 0.0,\n",
      "    \"How do you know if there\\u2019s an elephant under your bed? - Your head hits the ceiling!\": 0.0,\n",
      "    \"Finally realized why my plant sits around doing nothing all day... - He loves his pot.\": 0.0,\n",
      "    \"What did the Buffalo say to his little boy when he dropped him off at school? - Bison.\": -0.1875,\n",
      "    \"Why are fish so smart? - Because they live in schools!\": 0.19237012987012986,\n",
      "    \"What do you call two barracuda fish? -  A Pairacuda!\": 0.0,\n",
      "    \"What do you call a factory that sells passable products? - A satisfactory\": 0.0\n",
      "}\n"
     ]
    }
   ],
   "source": [
    "from textblob import TextBlob\n",
    "import json\n",
    "\n",
    "\n",
    "def Programming():\n",
    "    url = \"https://official-joke-api.appspot.com/random_ten\"\n",
    "    response = requests.get(url)\n",
    "    data = response.json()\n",
    "\n",
    "    jokes = {}\n",
    "    for i, joke in enumerate(data, start=1):\n",
    "        full_joke = f\"{joke['setup']} - {joke['punchline']}\"\n",
    "        # to make single line jokes\n",
    "        if '\\n' not in full_joke and len(full_joke) < 104:  \n",
    "            sentiment = TextBlob(full_joke).sentiment.polarity\n",
    "            jokes[full_joke] = sentiment\n",
    "\n",
    "    return jokes\n",
    "\n",
    "jokes_dict = Programming()\n",
    "print(json.dumps(jokes_dict, indent=4))\n"
   ]
  },
  {
   "cell_type": "code",
   "execution_count": null,
   "id": "425c9ba0",
   "metadata": {},
   "outputs": [],
   "source": [
    "# retrieve 5 jokes containing the term 'dad' and print their texts. \n",
    "# Separate consecutive jokes by printing a line containing \"******\" between them."
   ]
  },
  {
   "cell_type": "code",
   "execution_count": 79,
   "id": "a68d3d45",
   "metadata": {},
   "outputs": [
    {
     "name": "stdout",
     "output_type": "stream",
     "text": [
      "Joke 1 text: Dad I’m hungry’ … ‘Hi hungry I’m dad\n",
      "******\n",
      "Joke 2 text: Can I watch the TV? Dad: Yes, but don’t turn it on.\n",
      "******\n",
      "Joke 3 text: \"I'm sorry.\" \"Hi sorry, I'm dad\"\n",
      "******\n",
      "Joke 4 text: At the boxing match, the dad got into the popcorn line and the line for hot dogs, but he wanted to stay out of the punchline.\n",
      "******\n",
      "Joke 5 text: I've been trying to come up with a dad joke about momentum . . . but I just can't seem to get it going.\n"
     ]
    }
   ],
   "source": [
    "import requests\n",
    "\n",
    "def dad_jokes():\n",
    "    url = \"https://icanhazdadjoke.com/search\"\n",
    "    headers = {\"Accept\": \"application/json\"}\n",
    "    params = {\"term\": \"dad\", \"limit\": 5}\n",
    "    response = requests.get(url, headers=headers, params=params)\n",
    "    data = response.json()\n",
    "\n",
    "    jokes = data['results']\n",
    "    for i, joke in enumerate(jokes, start=1):\n",
    "        print(f\"Joke {i} text: {joke['joke']}\")\n",
    "        if i != len(jokes):\n",
    "            print(\"******\")\n",
    "            \n",
    "\n",
    "dad_jokes()\n"
   ]
  }
 ],
 "metadata": {
  "kernelspec": {
   "display_name": "Python 3 (ipykernel)",
   "language": "python",
   "name": "python3"
  },
  "language_info": {
   "codemirror_mode": {
    "name": "ipython",
    "version": 3
   },
   "file_extension": ".py",
   "mimetype": "text/x-python",
   "name": "python",
   "nbconvert_exporter": "python",
   "pygments_lexer": "ipython3",
   "version": "3.11.4"
  }
 },
 "nbformat": 4,
 "nbformat_minor": 5
}
