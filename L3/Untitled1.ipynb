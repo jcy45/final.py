{
 "cells": [
  {
   "cell_type": "code",
   "execution_count": 1,
   "id": "7ee955f4",
   "metadata": {},
   "outputs": [],
   "source": [
    "# Collect and print 10 jokes of the category: “Programming” and the joke type “single”. Start each joke \n",
    "# with the joke number, e.g., “Joke #1: ”, “Joke #2: ”, etc. \n",
    "# Separate consecutive jokes by printing a blank line between them. (3 points)\n"
   ]
  },
  {
   "cell_type": "code",
   "execution_count": 8,
   "id": "32bad16a",
   "metadata": {},
   "outputs": [
    {
     "name": "stdout",
     "output_type": "stream",
     "text": [
      "Requirement already satisfied: jokeapi in c:\\users\\yeung\\anaconda3\\lib\\site-packages (1.0.5)\n",
      "Requirement already satisfied: aiohttp<4.0.0,>=3.7.4 in c:\\users\\yeung\\anaconda3\\lib\\site-packages (from jokeapi) (3.8.3)\n",
      "Requirement already satisfied: simplejson<4.0.0,>=3.17.2 in c:\\users\\yeung\\anaconda3\\lib\\site-packages (from jokeapi) (3.19.1)\n",
      "Requirement already satisfied: urllib3<2.0.0,>=1.26.2 in c:\\users\\yeung\\anaconda3\\lib\\site-packages (from jokeapi) (1.26.16)\n",
      "Requirement already satisfied: attrs>=17.3.0 in c:\\users\\yeung\\anaconda3\\lib\\site-packages (from aiohttp<4.0.0,>=3.7.4->jokeapi) (22.1.0)\n",
      "Requirement already satisfied: charset-normalizer<3.0,>=2.0 in c:\\users\\yeung\\anaconda3\\lib\\site-packages (from aiohttp<4.0.0,>=3.7.4->jokeapi) (2.0.4)\n",
      "Requirement already satisfied: multidict<7.0,>=4.5 in c:\\users\\yeung\\anaconda3\\lib\\site-packages (from aiohttp<4.0.0,>=3.7.4->jokeapi) (6.0.2)\n",
      "Requirement already satisfied: async-timeout<5.0,>=4.0.0a3 in c:\\users\\yeung\\anaconda3\\lib\\site-packages (from aiohttp<4.0.0,>=3.7.4->jokeapi) (4.0.2)\n",
      "Requirement already satisfied: yarl<2.0,>=1.0 in c:\\users\\yeung\\anaconda3\\lib\\site-packages (from aiohttp<4.0.0,>=3.7.4->jokeapi) (1.8.1)\n",
      "Requirement already satisfied: frozenlist>=1.1.1 in c:\\users\\yeung\\anaconda3\\lib\\site-packages (from aiohttp<4.0.0,>=3.7.4->jokeapi) (1.3.3)\n",
      "Requirement already satisfied: aiosignal>=1.1.2 in c:\\users\\yeung\\anaconda3\\lib\\site-packages (from aiohttp<4.0.0,>=3.7.4->jokeapi) (1.2.0)\n",
      "Requirement already satisfied: idna>=2.0 in c:\\users\\yeung\\anaconda3\\lib\\site-packages (from yarl<2.0,>=1.0->aiohttp<4.0.0,>=3.7.4->jokeapi) (3.4)\n",
      "Note: you may need to restart the kernel to use updated packages.\n"
     ]
    }
   ],
   "source": [
    "pip install jokeapi  \n"
   ]
  },
  {
   "cell_type": "code",
   "execution_count": 36,
   "id": "dc5cf75a",
   "metadata": {},
   "outputs": [
    {
     "ename": "RuntimeError",
     "evalue": "asyncio.run() cannot be called from a running event loop",
     "output_type": "error",
     "traceback": [
      "\u001b[1;31m---------------------------------------------------------------------------\u001b[0m",
      "\u001b[1;31mRuntimeError\u001b[0m                              Traceback (most recent call last)",
      "Cell \u001b[1;32mIn[36], line 19\u001b[0m\n\u001b[0;32m     16\u001b[0m     \u001b[38;5;28mprint\u001b[39m(json\u001b[38;5;241m.\u001b[39mdumps(jokes, indent\u001b[38;5;241m=\u001b[39m\u001b[38;5;241m4\u001b[39m))\n\u001b[0;32m     18\u001b[0m \u001b[38;5;66;03m# Call main() without creating a new event loop\u001b[39;00m\n\u001b[1;32m---> 19\u001b[0m asyncio\u001b[38;5;241m.\u001b[39mrun(main())\n",
      "File \u001b[1;32m~\\anaconda3\\Lib\\asyncio\\runners.py:186\u001b[0m, in \u001b[0;36mrun\u001b[1;34m(main, debug)\u001b[0m\n\u001b[0;32m    161\u001b[0m \u001b[38;5;250m\u001b[39m\u001b[38;5;124;03m\"\"\"Execute the coroutine and return the result.\u001b[39;00m\n\u001b[0;32m    162\u001b[0m \n\u001b[0;32m    163\u001b[0m \u001b[38;5;124;03mThis function runs the passed coroutine, taking care of\u001b[39;00m\n\u001b[1;32m   (...)\u001b[0m\n\u001b[0;32m    182\u001b[0m \u001b[38;5;124;03m    asyncio.run(main())\u001b[39;00m\n\u001b[0;32m    183\u001b[0m \u001b[38;5;124;03m\"\"\"\u001b[39;00m\n\u001b[0;32m    184\u001b[0m \u001b[38;5;28;01mif\u001b[39;00m events\u001b[38;5;241m.\u001b[39m_get_running_loop() \u001b[38;5;129;01mis\u001b[39;00m \u001b[38;5;129;01mnot\u001b[39;00m \u001b[38;5;28;01mNone\u001b[39;00m:\n\u001b[0;32m    185\u001b[0m     \u001b[38;5;66;03m# fail fast with short traceback\u001b[39;00m\n\u001b[1;32m--> 186\u001b[0m     \u001b[38;5;28;01mraise\u001b[39;00m \u001b[38;5;167;01mRuntimeError\u001b[39;00m(\n\u001b[0;32m    187\u001b[0m         \u001b[38;5;124m\"\u001b[39m\u001b[38;5;124masyncio.run() cannot be called from a running event loop\u001b[39m\u001b[38;5;124m\"\u001b[39m)\n\u001b[0;32m    189\u001b[0m \u001b[38;5;28;01mwith\u001b[39;00m Runner(debug\u001b[38;5;241m=\u001b[39mdebug) \u001b[38;5;28;01mas\u001b[39;00m runner:\n\u001b[0;32m    190\u001b[0m     \u001b[38;5;28;01mreturn\u001b[39;00m runner\u001b[38;5;241m.\u001b[39mrun(main)\n",
      "\u001b[1;31mRuntimeError\u001b[0m: asyncio.run() cannot be called from a running event loop"
     ]
    }
   ],
   "source": [
    "import asyncio\n",
    "from jokeapi import Jokes\n",
    "import json \n",
    "\n",
    "async def collect_programming_jokes():\n",
    "    jokes_list = []\n",
    "    j = await Jokes()\n",
    "    for i in range(10):\n",
    "        joke = await j.get_joke(category=\"Programming\", type=\"single\")\n",
    "        jokes_list.append({\"Joke #\": i + 1, \"Joke Text\": joke['joke']})\n",
    "    return jokes_list\n",
    "\n",
    "# Use the existing event loop\n",
    "async def main():\n",
    "    jokes = await collect_programming_jokes()\n",
    "    print(json.dumps(jokes, indent=4))\n",
    "\n",
    "# Call main() without creating a new event loop\n",
    "asyncio.run(main())\n"
   ]
  },
  {
   "cell_type": "code",
   "execution_count": 32,
   "id": "0edc7854",
   "metadata": {},
   "outputs": [
    {
     "name": "stdout",
     "output_type": "stream",
     "text": [
      "general\n",
      "What do you get when you cross a chicken with a skunk?\n",
      "A fowl smell! \n",
      "\n",
      "general\n",
      "What time is it?\n",
      "I don't know... it keeps changing. \n",
      "\n",
      "general\n",
      "Why couldn't the kid see the pirate movie?\n",
      "Because it was rated arrr! \n",
      "\n",
      "general\n",
      "I got hit in the head by a soda can, but it didn't hurt that much...\n",
      "It was a soft drink. \n",
      "\n",
      "general\n",
      "What did the fish say when it hit the wall?\n",
      "Dam. \n",
      "\n",
      "programming\n",
      "What's the best thing about a Boolean?\n",
      "Even if you're wrong, you're only off by a bit. \n",
      "\n",
      "general\n",
      "Why does a chicken coop only have two doors?\n",
      "Because if it had four doors it would be a chicken sedan. \n",
      "\n",
      "general\n",
      "Did you hear the story about the cheese that saved the world?\n",
      "It was legend dairy. \n",
      "\n",
      "general\n",
      "What did the Zen Buddist say to the hotdog vendor?\n",
      "Make me one with everything. \n",
      "\n",
      "general\n",
      "What's the difference between a guitar and a fish?\n",
      "You can tune a guitar but you can't \"tuna\"fish! \n",
      "\n"
     ]
    }
   ],
   "source": [
    "import requests\n",
    "import json\n",
    "\n",
    "\n",
    "def jokes(f):\n",
    "    \n",
    "    data = requests.get(f)\n",
    "    tt = json.loads(data.text)\n",
    "    return tt\n",
    "\n",
    "f = r\"https://official-joke-api.appspot.com/random_ten\"\n",
    "a = jokes(f)\n",
    "\n",
    "for i in (a):\n",
    "    print(i[\"type\"])\n",
    "    print(i[\"setup\"])\n",
    "    print(i[\"punchline\"], \"\\n\")"
   ]
  }
 ],
 "metadata": {
  "kernelspec": {
   "display_name": "Python 3 (ipykernel)",
   "language": "python",
   "name": "python3"
  },
  "language_info": {
   "codemirror_mode": {
    "name": "ipython",
    "version": 3
   },
   "file_extension": ".py",
   "mimetype": "text/x-python",
   "name": "python",
   "nbconvert_exporter": "python",
   "pygments_lexer": "ipython3",
   "version": "3.11.4"
  }
 },
 "nbformat": 4,
 "nbformat_minor": 5
}
