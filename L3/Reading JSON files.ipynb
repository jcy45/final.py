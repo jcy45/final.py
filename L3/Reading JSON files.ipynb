{
 "cells": [
  {
   "cell_type": "markdown",
   "id": "2866a8f0",
   "metadata": {},
   "source": [
    "# Reading JSON data"
   ]
  },
  {
   "cell_type": "code",
   "execution_count": 1,
   "id": "62628f38",
   "metadata": {},
   "outputs": [],
   "source": [
    "from urllib.request import urlopen, Request"
   ]
  },
  {
   "cell_type": "code",
   "execution_count": 2,
   "id": "8fe887e7",
   "metadata": {},
   "outputs": [],
   "source": [
    "import json "
   ]
  },
  {
   "cell_type": "code",
   "execution_count": 4,
   "id": "567683bf",
   "metadata": {},
   "outputs": [],
   "source": [
    "url = 'https://raw.githubusercontent.com/LearnWebCode/json-example/master/animals-3.json'"
   ]
  },
  {
   "cell_type": "code",
   "execution_count": 5,
   "id": "586ac658",
   "metadata": {},
   "outputs": [],
   "source": [
    "request = Request(url)\n",
    "request.add_header('User-Agent', 'Mozilla/5.0 (Macintosh; Intel Mac OS X 10_10_1) AppleWebKit/537.36 (KHTML, like Gecko) Chrome/39.0.2171.95 Safari/537.36')\n",
    "response = urlopen(request).read()"
   ]
  },
  {
   "cell_type": "code",
   "execution_count": 6,
   "id": "912364d2",
   "metadata": {},
   "outputs": [
    {
     "data": {
      "text/plain": [
       "b'[\\n  {\\n    \"name\": \"Kitty\",\\n    \"species\" : \"cat\",\\n    \"foods\": {\\n      \"likes\": [\"fresh food\"],\\n      \"dislikes\": [\"stale food\"]\\n    }\\n  },\\n  {\\n    \"name\": \"Pupster\",\\n    \"species\" : \"dog\",\\n    \"foods\": {\\n      \"likes\": [\"tomatoes\", \"peas\"],\\n      \"dislikes\": [\"bread\"]\\n    }\\n  },\\n  {\\n    \"name\": \"Tux\",\\n    \"species\" : \"cat\",\\n    \"foods\": {\\n      \"likes\": [\"fancy dishes\"],\\n      \"dislikes\": [\"basic cat food\"]\\n    }\\n  }\\n]'"
      ]
     },
     "execution_count": 6,
     "metadata": {},
     "output_type": "execute_result"
    }
   ],
   "source": [
    "response"
   ]
  },
  {
   "cell_type": "code",
   "execution_count": 7,
   "id": "058988b3",
   "metadata": {},
   "outputs": [
    {
     "data": {
      "text/plain": [
       "bytes"
      ]
     },
     "execution_count": 7,
     "metadata": {},
     "output_type": "execute_result"
    }
   ],
   "source": [
    "type(response)"
   ]
  },
  {
   "cell_type": "code",
   "execution_count": 8,
   "id": "26d346ad",
   "metadata": {
    "scrolled": true
   },
   "outputs": [
    {
     "data": {
      "text/plain": [
       "[{'name': 'Kitty',\n",
       "  'species': 'cat',\n",
       "  'foods': {'likes': ['fresh food'], 'dislikes': ['stale food']}},\n",
       " {'name': 'Pupster',\n",
       "  'species': 'dog',\n",
       "  'foods': {'likes': ['tomatoes', 'peas'], 'dislikes': ['bread']}},\n",
       " {'name': 'Tux',\n",
       "  'species': 'cat',\n",
       "  'foods': {'likes': ['fancy dishes'], 'dislikes': ['basic cat food']}}]"
      ]
     },
     "execution_count": 8,
     "metadata": {},
     "output_type": "execute_result"
    }
   ],
   "source": [
    "# json.loads parses a valid JSON string and converts it into a Python Object.\n",
    "response_json = json.loads(response)\n",
    "response_json"
   ]
  },
  {
   "cell_type": "code",
   "execution_count": 9,
   "id": "1218f5ef",
   "metadata": {},
   "outputs": [
    {
     "data": {
      "text/plain": [
       "list"
      ]
     },
     "execution_count": 9,
     "metadata": {},
     "output_type": "execute_result"
    }
   ],
   "source": [
    "type(response_json)"
   ]
  },
  {
   "cell_type": "code",
   "execution_count": 10,
   "id": "6cbca266",
   "metadata": {},
   "outputs": [
    {
     "data": {
      "text/plain": [
       "3"
      ]
     },
     "execution_count": 10,
     "metadata": {},
     "output_type": "execute_result"
    }
   ],
   "source": [
    "len(response_json)"
   ]
  },
  {
   "cell_type": "code",
   "execution_count": 11,
   "id": "9ff3f6aa",
   "metadata": {},
   "outputs": [],
   "source": [
    "data_json = response_json[0]"
   ]
  },
  {
   "cell_type": "code",
   "execution_count": 12,
   "id": "138d066f",
   "metadata": {},
   "outputs": [
    {
     "data": {
      "text/plain": [
       "{'name': 'Kitty',\n",
       " 'species': 'cat',\n",
       " 'foods': {'likes': ['fresh food'], 'dislikes': ['stale food']}}"
      ]
     },
     "execution_count": 12,
     "metadata": {},
     "output_type": "execute_result"
    }
   ],
   "source": [
    "data_json"
   ]
  },
  {
   "cell_type": "code",
   "execution_count": 13,
   "id": "b49949a0",
   "metadata": {},
   "outputs": [
    {
     "data": {
      "text/plain": [
       "dict_keys(['name', 'species', 'foods'])"
      ]
     },
     "execution_count": 13,
     "metadata": {},
     "output_type": "execute_result"
    }
   ],
   "source": [
    "data_json.keys()"
   ]
  },
  {
   "cell_type": "code",
   "execution_count": 14,
   "id": "8c943e96",
   "metadata": {},
   "outputs": [
    {
     "data": {
      "text/plain": [
       "{'likes': ['fresh food'], 'dislikes': ['stale food']}"
      ]
     },
     "execution_count": 14,
     "metadata": {},
     "output_type": "execute_result"
    }
   ],
   "source": [
    "myData = data_json['foods']\n",
    "myData"
   ]
  },
  {
   "cell_type": "code",
   "execution_count": 15,
   "id": "2b7684ca",
   "metadata": {},
   "outputs": [
    {
     "name": "stdout",
     "output_type": "stream",
     "text": [
      "[\n",
      "    {\n",
      "        \"name\": \"Kitty\",\n",
      "        \"species\": \"cat\",\n",
      "        \"foods\": {\n",
      "            \"likes\": [\n",
      "                \"fresh food\"\n",
      "            ],\n",
      "            \"dislikes\": [\n",
      "                \"stale food\"\n",
      "            ]\n",
      "        }\n",
      "    },\n",
      "    {\n",
      "        \"name\": \"Pupster\",\n",
      "        \"species\": \"dog\",\n",
      "        \"foods\": {\n",
      "            \"likes\": [\n",
      "                \"tomatoes\",\n",
      "                \"peas\"\n",
      "            ],\n",
      "            \"dislikes\": [\n",
      "                \"bread\"\n",
      "            ]\n",
      "        }\n",
      "    },\n",
      "    {\n",
      "        \"name\": \"Tux\",\n",
      "        \"species\": \"cat\",\n",
      "        \"foods\": {\n",
      "            \"likes\": [\n",
      "                \"fancy dishes\"\n",
      "            ],\n",
      "            \"dislikes\": [\n",
      "                \"basic cat food\"\n",
      "            ]\n",
      "        }\n",
      "    }\n",
      "]\n"
     ]
    }
   ],
   "source": [
    "# Printing JSON object using indent formatting \n",
    "print(json.dumps(response_json, indent=4))"
   ]
  }
 ],
 "metadata": {
  "kernelspec": {
   "display_name": "Python 3 (ipykernel)",
   "language": "python",
   "name": "python3"
  },
  "language_info": {
   "codemirror_mode": {
    "name": "ipython",
    "version": 3
   },
   "file_extension": ".py",
   "mimetype": "text/x-python",
   "name": "python",
   "nbconvert_exporter": "python",
   "pygments_lexer": "ipython3",
   "version": "3.9.15"
  }
 },
 "nbformat": 4,
 "nbformat_minor": 5
}
