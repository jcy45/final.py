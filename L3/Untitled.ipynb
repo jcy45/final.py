{
 "cells": [
  {
   "cell_type": "code",
   "execution_count": 11,
   "id": "e730914e",
   "metadata": {},
   "outputs": [],
   "source": [
    "# store all books dic in a list 'book'\n",
    "book1={'id':1, 'title': 'war and peace', 'author': 'leo tolstoy'}\n",
    "book2={'id':2,'title':'the shining', 'author':'stephen king'}\n",
    "book3={'id':3,'title':'1984','author':'george orwell'}\n",
    "book4={'id':4,'title':'to kill a mockingbird','author':'harper lee'}\n"
   ]
  },
  {
   "cell_type": "code",
   "execution_count": 14,
   "id": "e0697b0c",
   "metadata": {},
   "outputs": [
    {
     "ename": "NameError",
     "evalue": "name 'library' is not defined",
     "output_type": "error",
     "traceback": [
      "\u001b[1;31m---------------------------------------------------------------------------\u001b[0m",
      "\u001b[1;31mNameError\u001b[0m                                 Traceback (most recent call last)",
      "Cell \u001b[1;32mIn[14], line 5\u001b[0m\n\u001b[0;32m      2\u001b[0m     new_book \u001b[38;5;241m=\u001b[39m {\u001b[38;5;124m'\u001b[39m\u001b[38;5;124mid\u001b[39m\u001b[38;5;124m'\u001b[39m: book_id, \u001b[38;5;124m'\u001b[39m\u001b[38;5;124mtitle\u001b[39m\u001b[38;5;124m'\u001b[39m: title, \u001b[38;5;124m'\u001b[39m\u001b[38;5;124mauthor\u001b[39m\u001b[38;5;124m'\u001b[39m: author}\n\u001b[0;32m      3\u001b[0m     library\u001b[38;5;241m.\u001b[39mappend(new_book)\n\u001b[1;32m----> 5\u001b[0m add_book(\u001b[38;5;241m4\u001b[39m, \u001b[38;5;124m'\u001b[39m\u001b[38;5;124mto kill a mockingbird\u001b[39m\u001b[38;5;124m'\u001b[39m, \u001b[38;5;124m'\u001b[39m\u001b[38;5;124mHarper Lee\u001b[39m\u001b[38;5;124m'\u001b[39m)\n\u001b[0;32m      7\u001b[0m \u001b[38;5;28;01mdef\u001b[39;00m \u001b[38;5;21mlen_author_lastname\u001b[39m(book):\n\u001b[0;32m      8\u001b[0m     author_lastname \u001b[38;5;241m=\u001b[39m book[\u001b[38;5;124m'\u001b[39m\u001b[38;5;124mauthor\u001b[39m\u001b[38;5;124m'\u001b[39m]\u001b[38;5;241m.\u001b[39msplit()[\u001b[38;5;241m-\u001b[39m\u001b[38;5;241m1\u001b[39m] \n",
      "Cell \u001b[1;32mIn[14], line 3\u001b[0m, in \u001b[0;36madd_book\u001b[1;34m(book_id, title, author)\u001b[0m\n\u001b[0;32m      1\u001b[0m \u001b[38;5;28;01mdef\u001b[39;00m \u001b[38;5;21madd_book\u001b[39m(book_id, title, author):\n\u001b[0;32m      2\u001b[0m     new_book \u001b[38;5;241m=\u001b[39m {\u001b[38;5;124m'\u001b[39m\u001b[38;5;124mid\u001b[39m\u001b[38;5;124m'\u001b[39m: book_id, \u001b[38;5;124m'\u001b[39m\u001b[38;5;124mtitle\u001b[39m\u001b[38;5;124m'\u001b[39m: title, \u001b[38;5;124m'\u001b[39m\u001b[38;5;124mauthor\u001b[39m\u001b[38;5;124m'\u001b[39m: author}\n\u001b[1;32m----> 3\u001b[0m     library\u001b[38;5;241m.\u001b[39mappend(new_book)\n",
      "\u001b[1;31mNameError\u001b[0m: name 'library' is not defined"
     ]
    }
   ],
   "source": [
    "def add_book(book_id, title, author):\n",
    "    new_book = {'id': book_id, 'title': title, 'author': author}\n",
    "    library.append(new_book)\n",
    "\n",
    "add_book(4, 'to kill a mockingbird', 'Harper Lee')\n",
    "\n",
    "def len_author_lastname(book):\n",
    "    author_lastname = book['author'].split()[-1] \n",
    "    return len(author_lastname)\n",
    "\n",
    "library.sort(key=len_author_lastname)\n"
   ]
  },
  {
   "cell_type": "code",
   "execution_count": 13,
   "id": "f3e083db",
   "metadata": {},
   "outputs": [
    {
     "ename": "NameError",
     "evalue": "name 'library' is not defined",
     "output_type": "error",
     "traceback": [
      "\u001b[1;31m---------------------------------------------------------------------------\u001b[0m",
      "\u001b[1;31mNameError\u001b[0m                                 Traceback (most recent call last)",
      "Cell \u001b[1;32mIn[13], line 1\u001b[0m\n\u001b[1;32m----> 1\u001b[0m \u001b[38;5;28;01mfor\u001b[39;00m book \u001b[38;5;129;01min\u001b[39;00m library:\n\u001b[0;32m      2\u001b[0m     \u001b[38;5;28mprint\u001b[39m(\u001b[38;5;124mf\u001b[39m\u001b[38;5;124m\"\u001b[39m\u001b[38;5;124mID: \u001b[39m\u001b[38;5;132;01m{\u001b[39;00mbook[\u001b[38;5;124m'\u001b[39m\u001b[38;5;124mid\u001b[39m\u001b[38;5;124m'\u001b[39m]\u001b[38;5;132;01m}\u001b[39;00m\u001b[38;5;124m, tittle: \u001b[39m\u001b[38;5;132;01m{\u001b[39;00mbook[\u001b[38;5;124m'\u001b[39m\u001b[38;5;124mtitle\u001b[39m\u001b[38;5;124m'\u001b[39m]\u001b[38;5;132;01m}\u001b[39;00m\u001b[38;5;124m, author: \u001b[39m\u001b[38;5;132;01m{\u001b[39;00mbook[\u001b[38;5;124m'\u001b[39m\u001b[38;5;124mauthor\u001b[39m\u001b[38;5;124m'\u001b[39m]\u001b[38;5;132;01m}\u001b[39;00m\u001b[38;5;124m\"\u001b[39m)\n",
      "\u001b[1;31mNameError\u001b[0m: name 'library' is not defined"
     ]
    }
   ],
   "source": [
    "\n",
    "for book in library:\n",
    "    print(f\"ID: {book['id']}, tittle: {book['title']}, author: {book['author']}\")"
   ]
  }
 ],
 "metadata": {
  "kernelspec": {
   "display_name": "Python 3 (ipykernel)",
   "language": "python",
   "name": "python3"
  },
  "language_info": {
   "codemirror_mode": {
    "name": "ipython",
    "version": 3
   },
   "file_extension": ".py",
   "mimetype": "text/x-python",
   "name": "python",
   "nbconvert_exporter": "python",
   "pygments_lexer": "ipython3",
   "version": "3.11.4"
  }
 },
 "nbformat": 4,
 "nbformat_minor": 5
}
