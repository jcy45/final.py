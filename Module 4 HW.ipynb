{
 "cells": [
  {
   "cell_type": "code",
   "execution_count": 2,
   "id": "1410e424",
   "metadata": {},
   "outputs": [
    {
     "name": "stdout",
     "output_type": "stream",
     "text": [
      "[[ 344 2345]\n",
      " [4345  253]]\n"
     ]
    }
   ],
   "source": [
    "# Create a 2x2 numpy array of US and GB deaths in two American Revolutionary War battles\n",
    "# listed below for US and GB correspondingly (1 point):\n",
    "\n",
    "import numpy as np\n",
    "\n",
    "battles = np.array([[344, 2345],\n",
    "                    [4345, 253]])\n",
    "print(battles)\n"
   ]
  },
  {
   "cell_type": "code",
   "execution_count": 3,
   "id": "1a4c1e2b",
   "metadata": {},
   "outputs": [
    {
     "name": "stdout",
     "output_type": "stream",
     "text": [
      "US Deaths:\n",
      "[ 344 4345]\n",
      "\n",
      "GB Deaths:\n",
      "[2345  253]\n",
      "\n",
      "US Deaths in 2nd Battle:\n",
      "4345\n"
     ]
    }
   ],
   "source": [
    "# Select the entries for US deaths (1 point)\n",
    "# Select the entries for GB deaths (1 point)\n",
    "# Select the entries for US deaths in the 2nd battle (1 point)\n",
    "\n",
    "US_deaths = battles[:, 0]\n",
    "\n",
    "gb_deaths = battles[:, 1]\n",
    "\n",
    "US_deaths_2nd_battle = battles[1, 0]\n",
    "\n",
    "\n",
    "print(\"US Deaths:\")\n",
    "print(US_deaths)\n",
    "\n",
    "print(\"\\nGB Deaths:\")\n",
    "print(gb_deaths)\n",
    "\n",
    "print(\"\\nUS Deaths in 2nd Battle:\")\n",
    "print(US_deaths_2nd_battle)\n",
    "\n",
    "\n"
   ]
  },
  {
   "cell_type": "code",
   "execution_count": 23,
   "id": "71f8b456",
   "metadata": {},
   "outputs": [
    {
     "name": "stdout",
     "output_type": "stream",
     "text": [
      "[[ 344 2345]\n",
      " [4345 5347]]\n"
     ]
    }
   ],
   "source": [
    "# Sort this array along the first axis (1 point).\n",
    "\n",
    "sorted_battles = np.sort(battles, axis=0)\n",
    "\n",
    "print(sorted_battles)\n"
   ]
  },
  {
   "cell_type": "code",
   "execution_count": 13,
   "id": "10e9c007",
   "metadata": {},
   "outputs": [
    {
     "name": "stdout",
     "output_type": "stream",
     "text": [
      "[[ 344 2345]\n",
      " [ 253 4345]]\n"
     ]
    }
   ],
   "source": [
    "# Sort this array along the second axis (1 point)\n",
    "\n",
    "sorted_battles = np.sort(battles, axis=1)\n",
    "\n",
    "print(sorted_battles)\n"
   ]
  },
  {
   "cell_type": "code",
   "execution_count": 14,
   "id": "dade7f69",
   "metadata": {},
   "outputs": [
    {
     "name": "stdout",
     "output_type": "stream",
     "text": [
      "[[ 344 4345]\n",
      " [2345  253]]\n"
     ]
    }
   ],
   "source": [
    "# Swap rows and columns of this array (1 point)\n",
    "\n",
    "swapped_battles = np.array([[battles[0, 0], battles[1, 0]],\n",
    "                            [battles[0, 1], battles[1, 1]]])\n",
    "\n",
    "print(swapped_battles)\n"
   ]
  },
  {
   "cell_type": "code",
   "execution_count": 15,
   "id": "673d2048",
   "metadata": {},
   "outputs": [
    {
     "name": "stdout",
     "output_type": "stream",
     "text": [
      "7287\n"
     ]
    }
   ],
   "source": [
    "# What is the total number of deaths (including both the US and GB) for the two battles? (1 point)\n",
    "\n",
    "total_deaths = np.sum(battles)\n",
    "\n",
    "print(total_deaths)"
   ]
  },
  {
   "cell_type": "code",
   "execution_count": 16,
   "id": "f224cf94",
   "metadata": {},
   "outputs": [
    {
     "name": "stdout",
     "output_type": "stream",
     "text": [
      "1344.5\n",
      "2299.0\n"
     ]
    }
   ],
   "source": [
    "# What is the average number of deaths in each battle (US and GB combined)? (2 points)\n",
    "\n",
    "us_deaths_battle1 = 344\n",
    "gb_deaths_battle1 = 2345\n",
    "us_deaths_battle2 = 4345\n",
    "gb_deaths_battle2 = 253\n",
    "\n",
    "average_deaths_battle_1 = (us_deaths_battle1 + gb_deaths_battle1) / 2\n",
    "average_deaths_battle_2 = (us_deaths_battle2 + gb_deaths_battle2) / 2\n",
    "\n",
    "print(average_deaths_battle_1)\n",
    "print(average_deaths_battle_2)\n"
   ]
  },
  {
   "cell_type": "code",
   "execution_count": 19,
   "id": "f9a4bb66",
   "metadata": {},
   "outputs": [
    {
     "name": "stdout",
     "output_type": "stream",
     "text": [
      "[[ 344 2345]\n",
      " [4345 5347]]\n"
     ]
    }
   ],
   "source": [
    "# Replace Battle 2 GB deaths in your array to 5347 (1 point)\n",
    "\n",
    "battles[1,1]=5347\n",
    "print(battles)"
   ]
  }
 ],
 "metadata": {
  "kernelspec": {
   "display_name": "Python 3 (ipykernel)",
   "language": "python",
   "name": "python3"
  },
  "language_info": {
   "codemirror_mode": {
    "name": "ipython",
    "version": 3
   },
   "file_extension": ".py",
   "mimetype": "text/x-python",
   "name": "python",
   "nbconvert_exporter": "python",
   "pygments_lexer": "ipython3",
   "version": "3.11.4"
  }
 },
 "nbformat": 4,
 "nbformat_minor": 5
}
